{
 "cells": [
  {
   "cell_type": "code",
   "execution_count": 2,
   "id": "0ec30027",
   "metadata": {},
   "outputs": [
    {
     "name": "stdout",
     "output_type": "stream",
     "text": [
      "Entry the 1st voter nameRam\n",
      "Entry the 2nd voter nameAman\n"
     ]
    }
   ],
   "source": [
    "voter1=input('Entry the 1st voter name')\n",
    "voter2=input('Entry the 2nd voter name')"
   ]
  },
  {
   "cell_type": "code",
   "execution_count": 3,
   "id": "6b0f4a46",
   "metadata": {},
   "outputs": [],
   "source": [
    "voter1=0\n",
    "voter2=0"
   ]
  },
  {
   "cell_type": "code",
   "execution_count": 4,
   "id": "0ffb3647",
   "metadata": {},
   "outputs": [],
   "source": [
    "voters_id=[1,2,3,4]"
   ]
  },
  {
   "cell_type": "code",
   "execution_count": 5,
   "id": "6cb56dbe",
   "metadata": {},
   "outputs": [],
   "source": [
    "no_of_voters=len(voters_id)"
   ]
  },
  {
   "cell_type": "code",
   "execution_count": null,
   "id": "c01c88a1",
   "metadata": {},
   "outputs": [
    {
     "name": "stdout",
     "output_type": "stream",
     "text": [
      "Enter your Voter id:1\n",
      "You are know a voter:\n",
      "Enter your Voter id:2\n",
      "You are know a voter:\n",
      "Enter your Voter id:3\n",
      "You are know a voter:\n",
      "Enter your Voter id:4\n",
      "You are know a voter:\n",
      "Enter your Voter id:5\n",
      "You are not eligible to vote\n",
      "Enter your Voter id:6\n",
      "You are not eligible to vote\n",
      "Enter your Voter id:7\n",
      "You are not eligible to vote\n"
     ]
    }
   ],
   "source": [
    "while True :\n",
    "    voters=int(input('Enter your Voter id:'))\n",
    "    if voters in voters_id:\n",
    "        print('You are know a voter:')\n",
    "     \n",
    "    else:\n",
    "        print('You are not eligible to vote')\n",
    "        "
   ]
  },
  {
   "cell_type": "code",
   "execution_count": null,
   "id": "944eee80",
   "metadata": {},
   "outputs": [],
   "source": []
  },
  {
   "cell_type": "code",
   "execution_count": null,
   "id": "607b1da2",
   "metadata": {},
   "outputs": [],
   "source": []
  }
 ],
 "metadata": {
  "kernelspec": {
   "display_name": "Python 3 (ipykernel)",
   "language": "python",
   "name": "python3"
  },
  "language_info": {
   "codemirror_mode": {
    "name": "ipython",
    "version": 3
   },
   "file_extension": ".py",
   "mimetype": "text/x-python",
   "name": "python",
   "nbconvert_exporter": "python",
   "pygments_lexer": "ipython3",
   "version": "3.10.9"
  }
 },
 "nbformat": 4,
 "nbformat_minor": 5
}
