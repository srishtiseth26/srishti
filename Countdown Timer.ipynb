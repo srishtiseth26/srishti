{
 "cells": [
  {
   "cell_type": "code",
   "execution_count": 7,
   "id": "eab3dbb2",
   "metadata": {},
   "outputs": [],
   "source": [
    "import time"
   ]
  },
  {
   "cell_type": "code",
   "execution_count": 9,
   "id": "0877cf6c",
   "metadata": {},
   "outputs": [],
   "source": [
    "def countdown(t):\n",
    "    while t>0:\n",
    "        print(t)\n",
    "        t=2\n",
    "        time.sleep(1)\n",
    "    print('time over')"
   ]
  },
  {
   "cell_type": "code",
   "execution_count": 16,
   "id": "32f9040f",
   "metadata": {},
   "outputs": [
    {
     "name": "stdout",
     "output_type": "stream",
     "text": [
      "how many seconds for countdown. Enter an integer:\n",
      "2\n"
     ]
    }
   ],
   "source": [
    "print('how many seconds for countdown. Enter an integer:')\n",
    "seconds =input()\n",
    "while not seconds.isdigit():\n",
    "    print(\"that wasnt an integer.Enter an integer:\")\n",
    "    seconds= input()\n",
    "seconds=int(seconds)"
   ]
  },
  {
   "cell_type": "code",
   "execution_count": null,
   "id": "343cdea4",
   "metadata": {},
   "outputs": [],
   "source": []
  }
 ],
 "metadata": {
  "kernelspec": {
   "display_name": "Python 3 (ipykernel)",
   "language": "python",
   "name": "python3"
  },
  "language_info": {
   "codemirror_mode": {
    "name": "ipython",
    "version": 3
   },
   "file_extension": ".py",
   "mimetype": "text/x-python",
   "name": "python",
   "nbconvert_exporter": "python",
   "pygments_lexer": "ipython3",
   "version": "3.10.9"
  }
 },
 "nbformat": 4,
 "nbformat_minor": 5
}
