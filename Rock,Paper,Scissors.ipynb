{
 "cells": [
  {
   "cell_type": "code",
   "execution_count": 1,
   "id": "6f4ecf41",
   "metadata": {},
   "outputs": [],
   "source": [
    "import random"
   ]
  },
  {
   "cell_type": "code",
   "execution_count": 2,
   "id": "91f106e8",
   "metadata": {},
   "outputs": [
    {
     "name": "stdout",
     "output_type": "stream",
     "text": [
      "Your Turn:S\n"
     ]
    }
   ],
   "source": [
    "user=input('Your Turn:').upper()\n",
    "comp=random.choice(['R','P','S'])"
   ]
  },
  {
   "cell_type": "code",
   "execution_count": 3,
   "id": "ec190118",
   "metadata": {},
   "outputs": [
    {
     "name": "stdout",
     "output_type": "stream",
     "text": [
      "Computer: R\n"
     ]
    }
   ],
   "source": [
    "print('Computer:',comp)"
   ]
  },
  {
   "cell_type": "code",
   "execution_count": 4,
   "id": "d971a88a",
   "metadata": {},
   "outputs": [],
   "source": [
    "win=(user=='R'and comp=='S')or(user=='S'and comp=='P')or(user=='P'and comp=='R')"
   ]
  },
  {
   "cell_type": "code",
   "execution_count": 5,
   "id": "2180c98e",
   "metadata": {},
   "outputs": [
    {
     "name": "stdout",
     "output_type": "stream",
     "text": [
      "You Lose\n"
     ]
    }
   ],
   "source": [
    "if win:\n",
    "    print('Your Win')\n",
    "elif user==comp:\n",
    "    print('TIE')\n",
    "else:\n",
    "    print('You Lose')"
   ]
  },
  {
   "cell_type": "code",
   "execution_count": null,
   "id": "16238ca7",
   "metadata": {},
   "outputs": [],
   "source": []
  }
 ],
 "metadata": {
  "kernelspec": {
   "display_name": "Python 3 (ipykernel)",
   "language": "python",
   "name": "python3"
  },
  "language_info": {
   "codemirror_mode": {
    "name": "ipython",
    "version": 3
   },
   "file_extension": ".py",
   "mimetype": "text/x-python",
   "name": "python",
   "nbconvert_exporter": "python",
   "pygments_lexer": "ipython3",
   "version": "3.10.9"
  }
 },
 "nbformat": 4,
 "nbformat_minor": 5
}
