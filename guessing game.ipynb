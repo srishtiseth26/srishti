{
 "cells": [
  {
   "cell_type": "code",
   "execution_count": 1,
   "id": "4d7cc1b5",
   "metadata": {},
   "outputs": [],
   "source": [
    "import random\n"
   ]
  },
  {
   "cell_type": "code",
   "execution_count": 13,
   "id": "53077208",
   "metadata": {},
   "outputs": [
    {
     "name": "stdout",
     "output_type": "stream",
     "text": [
      "Guess the Number: 2\n",
      "Guess the Number: 5\n",
      "Guess the Number: 8\n",
      "Your guess is incorrect,9is the correct guess\n"
     ]
    }
   ],
   "source": [
    "number=random.randint(1,10)\n",
    "for i in range(0,3):\n",
    "    user=int(input(\"Guess the Number: \"))\n",
    "    if user == number:\n",
    "        print(\"congratulation\")\n",
    "        print(f\"{number}is a correct guess\")\n",
    "        break\n",
    "if user !=number:\n",
    "    print(f\"Your guess is incorrect,{number}is the correct guess\")\n",
    "    "
   ]
  },
  {
   "cell_type": "code",
   "execution_count": null,
   "id": "89624961",
   "metadata": {},
   "outputs": [],
   "source": []
  },
  {
   "cell_type": "code",
   "execution_count": null,
   "id": "25ee233e",
   "metadata": {},
   "outputs": [],
   "source": []
  }
 ],
 "metadata": {
  "kernelspec": {
   "display_name": "Python 3 (ipykernel)",
   "language": "python",
   "name": "python3"
  },
  "language_info": {
   "codemirror_mode": {
    "name": "ipython",
    "version": 3
   },
   "file_extension": ".py",
   "mimetype": "text/x-python",
   "name": "python",
   "nbconvert_exporter": "python",
   "pygments_lexer": "ipython3",
   "version": "3.10.9"
  }
 },
 "nbformat": 4,
 "nbformat_minor": 5
}
