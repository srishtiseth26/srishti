{
 "cells": [
  {
   "cell_type": "code",
   "execution_count": 1,
   "id": "92b75ada",
   "metadata": {},
   "outputs": [],
   "source": [
    "import random"
   ]
  },
  {
   "cell_type": "code",
   "execution_count": 2,
   "id": "6c66f6d0",
   "metadata": {},
   "outputs": [
    {
     "name": "stdout",
     "output_type": "stream",
     "text": [
      "How many states in india?Your Turn :28\n"
     ]
    }
   ],
   "source": [
    "user= input('How many states in india?Your Turn :')\n",
    "comp=random.choice([\"24\",\"22\",\"28\"])"
   ]
  },
  {
   "cell_type": "code",
   "execution_count": 3,
   "id": "b5bb2825",
   "metadata": {},
   "outputs": [
    {
     "name": "stdout",
     "output_type": "stream",
     "text": [
      "Computer: 24\n"
     ]
    }
   ],
   "source": [
    "print('Computer:',comp)"
   ]
  },
  {
   "cell_type": "code",
   "execution_count": 4,
   "id": "0e96d46d",
   "metadata": {},
   "outputs": [],
   "source": [
    "win=(user==\"24\"and comp==\"22\")or(user==\"22\"and comp== \"28\")or(user==\"28\"and comp==\"24\")"
   ]
  },
  {
   "cell_type": "code",
   "execution_count": 6,
   "id": "26f7fac7",
   "metadata": {},
   "outputs": [
    {
     "name": "stdout",
     "output_type": "stream",
     "text": [
      "Your correct\n"
     ]
    }
   ],
   "source": [
    "if win:\n",
    "    print('Your correct')\n",
    "elif user==comp:\n",
    "    print('incorrect')\n",
    "else:\n",
    "    print('incorrect')"
   ]
  },
  {
   "cell_type": "code",
   "execution_count": null,
   "id": "6b7d0d9d",
   "metadata": {},
   "outputs": [],
   "source": []
  }
 ],
 "metadata": {
  "kernelspec": {
   "display_name": "Python 3 (ipykernel)",
   "language": "python",
   "name": "python3"
  },
  "language_info": {
   "codemirror_mode": {
    "name": "ipython",
    "version": 3
   },
   "file_extension": ".py",
   "mimetype": "text/x-python",
   "name": "python",
   "nbconvert_exporter": "python",
   "pygments_lexer": "ipython3",
   "version": "3.10.9"
  }
 },
 "nbformat": 4,
 "nbformat_minor": 5
}
